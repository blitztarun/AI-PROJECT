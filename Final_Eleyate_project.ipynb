{
 "cells": [
  {
   "cell_type": "code",
   "execution_count": null,
   "metadata": {
    "colab": {
     "base_uri": "https://localhost:8080/"
    },
    "id": "CC8DuPR9GPni",
    "outputId": "ac29622c-8dc3-4768-ec08-cfa9e504d363"
   },
   "outputs": [
    {
     "name": "stderr",
     "output_type": "stream",
     "text": [
      "Downloading...\n",
      "From: https://drive.google.com/uc?id=1DExflyRCumRCftp9roxxcHOcwRyuWrw-\n",
      "To: /content/dataset.csv\n",
      "100%|██████████| 3.88M/3.88M [00:00<00:00, 194MB/s]"
     ]
    },
    {
     "name": "stdout",
     "output_type": "stream",
     "text": [
      "   age           worktype   fnlwt   education  education_number  \\\n",
      "0   39          State-gov   77516   Bachelors                13   \n",
      "1   50   Self-emp-not-inc   83311   Bachelors                13   \n",
      "2   38            Private  215646     HS-grad                 9   \n",
      "3   53            Private  234721        11th                 7   \n",
      "4   28            Private  338409   Bachelors                13   \n",
      "\n",
      "        marital_status          occupation relatioship_status    race  \\\n",
      "0        Never-married        Adm-clerical      Not-in-family   White   \n",
      "1   Married-civ-spouse     Exec-managerial            Husband   White   \n",
      "2             Divorced   Handlers-cleaners      Not-in-family   White   \n",
      "3   Married-civ-spouse   Handlers-cleaners            Husband   Black   \n",
      "4   Married-civ-spouse      Prof-specialty               Wife   Black   \n",
      "\n",
      "       sex  capital_gain  capital_loss  hours_per_week  native_country  \\\n",
      "0     Male          2174             0              40   United-States   \n",
      "1     Male             0             0              13   United-States   \n",
      "2     Male             0             0              40   United-States   \n",
      "3     Male             0             0              40   United-States   \n",
      "4   Female             0             0              40            Cuba   \n",
      "\n",
      "   income  ', '', '', '', 'hours_per_week', '', ''  \n",
      "0   <=50K                                      NaN  \n",
      "1   <=50K                                      NaN  \n",
      "2   <=50K                                      NaN  \n",
      "3   <=50K                                      NaN  \n",
      "4   <=50K                                      NaN  \n",
      "Training Set Shape: (26048, 16)\n",
      "Test Set Shape: (6513, 16)\n"
     ]
    },
    {
     "name": "stderr",
     "output_type": "stream",
     "text": [
      "\n"
     ]
    }
   ],
   "source": [
    "import pandas as pd\n",
    "import gdown\n",
    "from sklearn.model_selection import train_test_split\n",
    "from sklearn.preprocessing import StandardScaler\n",
    "from sklearn.impute import SimpleImputer\n",
    "from sklearn.ensemble import RandomForestClassifier\n",
    "from sklearn.linear_model import LogisticRegression\n",
    "from sklearn.svm import SVC\n",
    "from sklearn.metrics import accuracy_score, classification_report, confusion_matrix\n",
    "\n",
    "url = 'https://drive.google.com/uc?id=1DExflyRCumRCftp9roxxcHOcwRyuWrw-'\n",
    "output = 'dataset.csv'\n",
    "gdown.download(url, output, quiet=False)\n",
    "\n",
    "data = pd.read_csv(output)\n",
    "\n",
    "print(data.head())\n",
    "\n",
    "train_data, test_data = train_test_split(data, test_size=0.2, random_state=42)\n",
    "\n",
    "print(\"Training Set Shape:\", train_data.shape)\n",
    "print(\"Test Set Shape:\", test_data.shape)"
   ]
  },
  {
   "cell_type": "code",
   "execution_count": null,
   "metadata": {
    "colab": {
     "base_uri": "https://localhost:8080/"
    },
    "id": "UzBqLaoKGnoa",
    "outputId": "4eb0eb94-218e-4ff0-ad2d-66256f848712"
   },
   "outputs": [
    {
     "name": "stderr",
     "output_type": "stream",
     "text": [
      "/usr/local/lib/python3.10/dist-packages/sklearn/impute/_base.py:598: UserWarning: Skipping features without any observed values: [\"', '', '', '', 'hours_per_week', '', ''\"]. At least one non-missing value is needed for imputation with strategy='mean'.\n",
      "  warnings.warn(\n",
      "/usr/local/lib/python3.10/dist-packages/sklearn/impute/_base.py:598: UserWarning: Skipping features without any observed values: [\"', '', '', '', 'hours_per_week', '', ''\"]. At least one non-missing value is needed for imputation with strategy='mean'.\n",
      "  warnings.warn(\n"
     ]
    },
    {
     "name": "stdout",
     "output_type": "stream",
     "text": [
      "\n",
      "SVM Accuracy: 0.8565945033010901\n",
      "Random Forest Accuracy: 0.8598188238906802\n",
      "Logistic Regression Accuracy: 0.8572086596038692\n",
      "\n",
      "SVM Classification Report:\n",
      "               precision    recall  f1-score   support\n",
      "\n",
      "       <=50K       0.88      0.94      0.91      4942\n",
      "        >50K       0.76      0.59      0.67      1571\n",
      "\n",
      "    accuracy                           0.86      6513\n",
      "   macro avg       0.82      0.77      0.79      6513\n",
      "weighted avg       0.85      0.86      0.85      6513\n",
      "\n",
      "Random Forest Classification Report:\n",
      "               precision    recall  f1-score   support\n",
      "\n",
      "       <=50K       0.89      0.93      0.91      4942\n",
      "        >50K       0.75      0.63      0.69      1571\n",
      "\n",
      "    accuracy                           0.86      6513\n",
      "   macro avg       0.82      0.78      0.80      6513\n",
      "weighted avg       0.85      0.86      0.86      6513\n",
      "\n",
      "Logistic Regression Classification Report:\n",
      "               precision    recall  f1-score   support\n",
      "\n",
      "       <=50K       0.88      0.93      0.91      4942\n",
      "        >50K       0.75      0.61      0.67      1571\n",
      "\n",
      "    accuracy                           0.86      6513\n",
      "   macro avg       0.82      0.77      0.79      6513\n",
      "weighted avg       0.85      0.86      0.85      6513\n",
      "\n",
      "\n",
      "SVM Confusion Matrix:\n",
      " [[4646  296]\n",
      " [ 638  933]]\n",
      "Random Forest Confusion Matrix:\n",
      " [[4604  338]\n",
      " [ 575  996]]\n",
      "Logistic Regression Confusion Matrix:\n",
      " [[4619  323]\n",
      " [ 607  964]]\n"
     ]
    }
   ],
   "source": [
    "target_column = 'income'\n",
    "X_train = train_data.drop(target_column, axis=1)\n",
    "y_train = train_data[target_column]\n",
    "X_test = test_data.drop(target_column, axis=1)\n",
    "y_test = test_data[target_column]\n",
    "\n",
    "X_train_encoded = pd.get_dummies(X_train, drop_first=True)\n",
    "X_test_encoded = pd.get_dummies(X_test, drop_first=True)\n",
    "\n",
    "X_test_encoded = X_test_encoded.reindex(columns=X_train_encoded.columns, fill_value=0)\n",
    "\n",
    "imputer = SimpleImputer(strategy='mean')\n",
    "X_train_imputed = imputer.fit_transform(X_train_encoded)\n",
    "X_test_imputed = imputer.transform(X_test_encoded)\n",
    "\n",
    "scaler = StandardScaler()\n",
    "X_train_scaled = scaler.fit_transform(X_train_imputed)\n",
    "X_test_scaled = scaler.transform(X_test_imputed)\n",
    "\n",
    "svm_model = SVC(kernel='linear')\n",
    "rf_model = RandomForestClassifier(n_estimators=100)\n",
    "lr_model = LogisticRegression()\n",
    "\n",
    "svm_model.fit(X_train_scaled, y_train)\n",
    "rf_model.fit(X_train_scaled, y_train)\n",
    "lr_model.fit(X_train_scaled, y_train)\n",
    "\n",
    "svm_predictions = svm_model.predict(X_test_scaled)\n",
    "rf_predictions = rf_model.predict(X_test_scaled)\n",
    "lr_predictions = lr_model.predict(X_test_scaled)\n",
    "\n",
    "print(\"\\nSVM Accuracy:\", accuracy_score(y_test, svm_predictions))\n",
    "print(\"Random Forest Accuracy:\", accuracy_score(y_test, rf_predictions))\n",
    "print(\"Logistic Regression Accuracy:\", accuracy_score(y_test, lr_predictions))\n",
    "\n",
    "print(\"\\nSVM Classification Report:\\n\", classification_report(y_test, svm_predictions))\n",
    "print(\"Random Forest Classification Report:\\n\", classification_report(y_test, rf_predictions))\n",
    "print(\"Logistic Regression Classification Report:\\n\", classification_report(y_test, lr_predictions))\n",
    "\n",
    "print(\"\\nSVM Confusion Matrix:\\n\", confusion_matrix(y_test, svm_predictions))\n",
    "print(\"Random Forest Confusion Matrix:\\n\", confusion_matrix(y_test, rf_predictions))\n",
    "print(\"Logistic Regression Confusion Matrix:\\n\", confusion_matrix(y_test, lr_predictions))\n"
   ]
  },
  {
   "cell_type": "code",
   "execution_count": null,
   "metadata": {
    "colab": {
     "base_uri": "https://localhost:8080/"
    },
    "id": "sOl_gzivGwPu",
    "outputId": "100b819b-3ce2-4e46-b08f-c585a9f3193f"
   },
   "outputs": [
    {
     "name": "stdout",
     "output_type": "stream",
     "text": [
      "\n",
      "SVM Model Performance on Test Data\n",
      "Accuracy: 0.8565945033010901\n",
      "Classification Report:\n",
      "               precision    recall  f1-score   support\n",
      "\n",
      "       <=50K       0.88      0.94      0.91      4942\n",
      "        >50K       0.76      0.59      0.67      1571\n",
      "\n",
      "    accuracy                           0.86      6513\n",
      "   macro avg       0.82      0.77      0.79      6513\n",
      "weighted avg       0.85      0.86      0.85      6513\n",
      "\n",
      "Confusion Matrix:\n",
      " [[4646  296]\n",
      " [ 638  933]]\n",
      "\n",
      "Random Forest Model Performance on Test Data\n",
      "Accuracy: 0.8598188238906802\n",
      "Classification Report:\n",
      "               precision    recall  f1-score   support\n",
      "\n",
      "       <=50K       0.89      0.93      0.91      4942\n",
      "        >50K       0.75      0.63      0.69      1571\n",
      "\n",
      "    accuracy                           0.86      6513\n",
      "   macro avg       0.82      0.78      0.80      6513\n",
      "weighted avg       0.85      0.86      0.86      6513\n",
      "\n",
      "Confusion Matrix:\n",
      " [[4604  338]\n",
      " [ 575  996]]\n",
      "\n",
      "Logistic Regression Model Performance on Test Data\n",
      "Accuracy: 0.8572086596038692\n",
      "Classification Report:\n",
      "               precision    recall  f1-score   support\n",
      "\n",
      "       <=50K       0.88      0.93      0.91      4942\n",
      "        >50K       0.75      0.61      0.67      1571\n",
      "\n",
      "    accuracy                           0.86      6513\n",
      "   macro avg       0.82      0.77      0.79      6513\n",
      "weighted avg       0.85      0.86      0.85      6513\n",
      "\n",
      "Confusion Matrix:\n",
      " [[4619  323]\n",
      " [ 607  964]]\n"
     ]
    }
   ],
   "source": [
    "svm_predictions = svm_model.predict(X_test_scaled)\n",
    "print(\"\\nSVM Model Performance on Test Data\")\n",
    "print(\"Accuracy:\", accuracy_score(y_test, svm_predictions))\n",
    "print(\"Classification Report:\\n\", classification_report(y_test, svm_predictions))\n",
    "print(\"Confusion Matrix:\\n\", confusion_matrix(y_test, svm_predictions))\n",
    "\n",
    "rf_predictions = rf_model.predict(X_test_scaled)\n",
    "print(\"\\nRandom Forest Model Performance on Test Data\")\n",
    "print(\"Accuracy:\", accuracy_score(y_test, rf_predictions))\n",
    "print(\"Classification Report:\\n\", classification_report(y_test, rf_predictions))\n",
    "print(\"Confusion Matrix:\\n\", confusion_matrix(y_test, rf_predictions))\n",
    "\n",
    "lr_predictions = lr_model.predict(X_test_scaled)\n",
    "print(\"\\nLogistic Regression Model Performance on Test Data\")\n",
    "print(\"Accuracy:\", accuracy_score(y_test, lr_predictions))\n",
    "print(\"Classification Report:\\n\", classification_report(y_test, lr_predictions))\n",
    "print(\"Confusion Matrix:\\n\", confusion_matrix(y_test, lr_predictions))\n"
   ]
  },
  {
   "cell_type": "code",
   "execution_count": null,
   "metadata": {
    "colab": {
     "base_uri": "https://localhost:8080/"
    },
    "id": "TvRJ-qm2HlbH",
    "outputId": "f9b7d9ff-3185-4ed7-849c-df9da233b18c"
   },
   "outputs": [
    {
     "name": "stdout",
     "output_type": "stream",
     "text": [
      "\n",
      "--- SVM Model ---\n",
      "Accuracy: 0.8565945033010901\n",
      "Classification Report:\n",
      "               precision    recall  f1-score   support\n",
      "\n",
      "       <=50K       0.88      0.94      0.91      4942\n",
      "        >50K       0.76      0.59      0.67      1571\n",
      "\n",
      "    accuracy                           0.86      6513\n",
      "   macro avg       0.82      0.77      0.79      6513\n",
      "weighted avg       0.85      0.86      0.85      6513\n",
      "\n",
      "Confusion Matrix:\n",
      " [[4646  296]\n",
      " [ 638  933]]\n",
      "\n",
      "--- Random Forest Model ---\n",
      "Accuracy: 0.8598188238906802\n",
      "Classification Report:\n",
      "               precision    recall  f1-score   support\n",
      "\n",
      "       <=50K       0.89      0.93      0.91      4942\n",
      "        >50K       0.75      0.63      0.69      1571\n",
      "\n",
      "    accuracy                           0.86      6513\n",
      "   macro avg       0.82      0.78      0.80      6513\n",
      "weighted avg       0.85      0.86      0.86      6513\n",
      "\n",
      "Confusion Matrix:\n",
      " [[4604  338]\n",
      " [ 575  996]]\n",
      "\n",
      "--- Logistic Regression Model ---\n",
      "Accuracy: 0.8572086596038692\n",
      "Classification Report:\n",
      "               precision    recall  f1-score   support\n",
      "\n",
      "       <=50K       0.88      0.93      0.91      4942\n",
      "        >50K       0.75      0.61      0.67      1571\n",
      "\n",
      "    accuracy                           0.86      6513\n",
      "   macro avg       0.82      0.77      0.79      6513\n",
      "weighted avg       0.85      0.86      0.85      6513\n",
      "\n",
      "Confusion Matrix:\n",
      " [[4619  323]\n",
      " [ 607  964]]\n"
     ]
    }
   ],
   "source": [
    "from sklearn.metrics import accuracy_score, classification_report, confusion_matrix\n",
    "\n",
    "svm_predictions = svm_model.predict(X_test_scaled)\n",
    "print(\"\\n--- SVM Model ---\")\n",
    "print(\"Accuracy:\", accuracy_score(y_test, svm_predictions))\n",
    "print(\"Classification Report:\\n\", classification_report(y_test, svm_predictions))\n",
    "print(\"Confusion Matrix:\\n\", confusion_matrix(y_test, svm_predictions))\n",
    "\n",
    "rf_predictions = rf_model.predict(X_test_scaled)\n",
    "print(\"\\n--- Random Forest Model ---\")\n",
    "print(\"Accuracy:\", accuracy_score(y_test, rf_predictions))\n",
    "print(\"Classification Report:\\n\", classification_report(y_test, rf_predictions))\n",
    "print(\"Confusion Matrix:\\n\", confusion_matrix(y_test, rf_predictions))\n",
    "\n",
    "lr_predictions = lr_model.predict(X_test_scaled)\n",
    "print(\"\\n--- Logistic Regression Model ---\")\n",
    "print(\"Accuracy:\", accuracy_score(y_test, lr_predictions))\n",
    "print(\"Classification Report:\\n\", classification_report(y_test, lr_predictions))\n",
    "print(\"Confusion Matrix:\\n\", confusion_matrix(y_test, lr_predictions))\n"
   ]
  },
  {
   "cell_type": "code",
   "execution_count": null,
   "metadata": {
    "colab": {
     "base_uri": "https://localhost:8080/",
     "height": 545
    },
    "id": "ZtALdUr1H280",
    "outputId": "8baa714a-8ea3-4550-c7bb-56607328b73c"
   },
   "outputs": [
    {
     "data": {
      "image/png": "[encoded data removed]",
      "text/plain": [
       "<Figure size 1000x600 with 1 Axes>"
      ]
     },
     "metadata": {},
     "output_type": "display_data"
    }
   ],
   "source": [
    "import matplotlib.pyplot as plt\n",
    "\n",
    "svm_accuracy = accuracy_score(y_test, svm_predictions)\n",
    "rf_accuracy = accuracy_score(y_test, rf_predictions)\n",
    "lr_accuracy = accuracy_score(y_test, lr_predictions)\n",
    "\n",
    "model_names = ['SVM', 'Random Forest', 'Logistic Regression']\n",
    "accuracies = [svm_accuracy, rf_accuracy, lr_accuracy]\n",
    "\n",
    "plt.figure(figsize=(10, 6))\n",
    "plt.bar(model_names, accuracies, color=['blue', 'green', 'orange'])\n",
    "plt.ylim(0, 1)\n",
    "plt.ylabel('Accuracy Score')\n",
    "plt.title('Model Accuracy Comparison')\n",
    "plt.grid(axis='y')\n",
    "\n",
    "for i, v in enumerate(accuracies):\n",
    "    plt.text(i, v + 0.01, f\"{v:.2f}\", ha='center', fontweight='bold')\n",
    "\n",
    "plt.show()\n"
   ]
  },
  {
   "cell_type": "code",
   "execution_count": null,
   "metadata": {
    "colab": {
     "base_uri": "https://localhost:8080/",
     "height": 1000
    },
    "id": "XNfeBEgOIDPp",
    "outputId": "8790ba35-4cc7-4b20-eb16-fbdc3de29894"
   },
   "outputs": [
    {
     "data": {
      "image/png": "[encoded data removed]",
      "text/plain": [
       "<Figure size 800x600 with 1 Axes>"
      ]
     },
     "metadata": {},
     "output_type": "display_data"
    },
    {
     "data": {
      "image/png": "[encoded data removed]",
      "text/plain": [
       "<Figure size 800x600 with 1 Axes>"
      ]
     },
     "metadata": {},
     "output_type": "display_data"
    },
    {
     "data": {
      "image/png": "[encoded data removed]",
      "text/plain": [
       "<Figure size 800x600 with 1 Axes>"
      ]
     },
     "metadata": {},
     "output_type": "display_data"
    }
   ],
   "source": [
    "import seaborn as sns\n",
    "\n",
    "def plot_confusion_matrix(cm, model_name):\n",
    "    plt.figure(figsize=(8, 6))\n",
    "    sns.heatmap(cm, annot=True, fmt='d', cmap='Blues', cbar=False,\n",
    "                xticklabels=['<=50K', '>50K'], yticklabels=['<=50K', '>50K'])\n",
    "    plt.title(f'Confusion Matrix for {model_name}')\n",
    "    plt.xlabel('Predicted')\n",
    "    plt.ylabel('Actual')\n",
    "    plt.show()\n",
    "\n",
    "svm_cm = confusion_matrix(y_test, svm_predictions)\n",
    "rf_cm = confusion_matrix(y_test, rf_predictions)\n",
    "lr_cm = confusion_matrix(y_test, lr_predictions)\n",
    "\n",
    "plot_confusion_matrix(svm_cm, 'SVM')\n",
    "plot_confusion_matrix(rf_cm, 'Random Forest')\n",
    "plot_confusion_matrix(lr_cm, 'Logistic Regression')\n"
   ]
  },
  {
   "cell_type": "code",
   "execution_count": null,
   "metadata": {
    "colab": {
     "base_uri": "https://localhost:8080/"
    },
    "id": "uN06CrdRILpM",
    "outputId": "127deb5e-df9c-4775-e4e7-75985cfa99b2"
   },
   "outputs": [
    {
     "name": "stdout",
     "output_type": "stream",
     "text": [
      "Fitting 3 folds for each of 100 candidates, totalling 300 fits\n"
     ]
    },
    {
     "name": "stderr",
     "output_type": "stream",
     "text": [
      "/usr/local/lib/python3.10/dist-packages/sklearn/model_selection/_validation.py:540: FitFailedWarning: \n",
      "171 fits failed out of a total of 300.\n",
      "The score on these train-test partitions for these parameters will be set to nan.\n",
      "If these failures are not expected, you can try to debug them by setting error_score='raise'.\n",
      "\n",
      "Below are more details about the failures:\n",
      "--------------------------------------------------------------------------------\n",
      "171 fits failed with the following error:\n",
      "Traceback (most recent call last):\n",
      "  File \"/usr/local/lib/python3.10/dist-packages/sklearn/model_selection/_validation.py\", line 888, in _fit_and_score\n",
      "    estimator.fit(X_train, y_train, **fit_params)\n",
      "  File \"/usr/local/lib/python3.10/dist-packages/sklearn/base.py\", line 1466, in wrapper\n",
      "    estimator._validate_params()\n",
      "  File \"/usr/local/lib/python3.10/dist-packages/sklearn/base.py\", line 666, in _validate_params\n",
      "    validate_parameter_constraints(\n",
      "  File \"/usr/local/lib/python3.10/dist-packages/sklearn/utils/_param_validation.py\", line 95, in validate_parameter_constraints\n",
      "    raise InvalidParameterError(\n",
      "sklearn.utils._param_validation.InvalidParameterError: The 'max_features' parameter of RandomForestClassifier must be an int in the range [1, inf), a float in the range (0.0, 1.0], a str among {'sqrt', 'log2'} or None. Got 'auto' instead.\n",
      "\n",
      "  warnings.warn(some_fits_failed_message, FitFailedWarning)\n",
      "/usr/local/lib/python3.10/dist-packages/sklearn/model_selection/_search.py:1103: UserWarning: One or more of the test scores are non-finite: [0.86102596        nan        nan 0.85588156        nan        nan\n",
      " 0.86263837 0.86010452 0.86056524 0.86087238 0.85929835        nan\n",
      " 0.86210093        nan 0.8614482         nan        nan        nan\n",
      "        nan        nan        nan        nan 0.86117948        nan\n",
      "        nan        nan 0.85906797        nan 0.85661104 0.85572811\n",
      "        nan        nan 0.8566878  0.85645751 0.86148665        nan\n",
      " 0.86106433 0.86079567 0.85603521 0.86156338 0.8593752  0.85503701\n",
      "        nan        nan 0.85853057        nan 0.85695659        nan\n",
      " 0.85165856        nan        nan        nan 0.86171707        nan\n",
      "        nan        nan        nan        nan        nan 0.8560736\n",
      " 0.86091081        nan        nan 0.85584317 0.86144827        nan\n",
      "        nan        nan 0.8601046  0.86114108        nan 0.86140985\n",
      " 0.85584322        nan 0.86236961        nan        nan 0.86056523\n",
      "        nan        nan 0.8551138         nan        nan        nan\n",
      "        nan        nan        nan        nan        nan 0.85803145\n",
      " 0.85618875        nan        nan        nan 0.86198571        nan\n",
      " 0.85998934 0.86198575        nan 0.86018135]\n",
      "  warnings.warn(\n"
     ]
    },
    {
     "name": "stdout",
     "output_type": "stream",
     "text": [
      "Best Parameters for Random Forest: {'n_estimators': 50, 'min_samples_split': 2, 'min_samples_leaf': 2, 'max_features': 'sqrt', 'max_depth': 30, 'bootstrap': False}\n",
      "Best Score for Random Forest: 0.8626383725339489\n"
     ]
    }
   ],
   "source": [
    "from sklearn.ensemble import RandomForestClassifier\n",
    "from sklearn.model_selection import RandomizedSearchCV\n",
    "\n",
    "rf_model = RandomForestClassifier()\n",
    "\n",
    "rf_param_grid = {\n",
    "    'n_estimators': [50, 100, 200],\n",
    "    'max_features': ['auto', 'sqrt'],\n",
    "    'max_depth': [None, 10, 20, 30],\n",
    "    'min_samples_split': [2, 5, 10],\n",
    "    'min_samples_leaf': [1, 2, 4],\n",
    "    'bootstrap': [True, False]\n",
    "}\n",
    "\n",
    "rf_random_search = RandomizedSearchCV(estimator=rf_model, param_distributions=rf_param_grid,\n",
    "                                      n_iter=100, cv=3, verbose=2, random_state=42, n_jobs=-1)\n",
    "\n",
    "rf_random_search.fit(X_train_scaled, y_train)\n",
    "\n",
    "print(\"Best Parameters for Random Forest:\", rf_random_search.best_params_)\n",
    "print(\"Best Score for Random Forest:\", rf_random_search.best_score_)\n"
   ]
  },
  {
   "cell_type": "code",
   "execution_count": null,
   "metadata": {
    "colab": {
     "base_uri": "https://localhost:8080/"
    },
    "id": "FdsUXt1vIfj2",
    "outputId": "d64c9c43-6779-4d30-b021-512397006d17"
   },
   "outputs": [
    {
     "name": "stdout",
     "output_type": "stream",
     "text": [
      "Fitting 3 folds for each of 24 candidates, totalling 72 fits\n"
     ]
    },
    {
     "name": "stderr",
     "output_type": "stream",
     "text": [
      "/usr/local/lib/python3.10/dist-packages/sklearn/model_selection/_search.py:320: UserWarning: The total space of parameters 24 is smaller than n_iter=100. Running 24 iterations. For exhaustive searches, use GridSearchCV.\n",
      "  warnings.warn(\n"
     ]
    },
    {
     "name": "stdout",
     "output_type": "stream",
     "text": [
      "Best Parameters for Logistic Regression: {'solver': 'liblinear', 'penalty': 'l1', 'C': 0.1}\n",
      "Best Score for Logistic Regression: 0.8508139715319883\n"
     ]
    }
   ],
   "source": [
    "from sklearn.linear_model import LogisticRegression\n",
    "\n",
    "lr_model = LogisticRegression()\n",
    "\n",
    "lr_param_grid = {\n",
    "    'C': [0.001, 0.01, 0.1, 1, 10, 100],\n",
    "    'penalty': ['l1', 'l2'],\n",
    "    'solver': ['liblinear', 'saga']\n",
    "}\n",
    "\n",
    "lr_random_search = RandomizedSearchCV(estimator=lr_model, param_distributions=lr_param_grid,\n",
    "                                      n_iter=100, cv=3, verbose=2, random_state=42, n_jobs=-1)\n",
    "\n",
    "lr_random_search.fit(X_train_scaled, y_train)\n",
    "\n",
    "print(\"Best Parameters for Logistic Regression:\", lr_random_search.best_params_)\n",
    "print(\"Best Score for Logistic Regression:\", lr_random_search.best_score_)\n"
   ]
  },
  {
   "cell_type": "code",
   "execution_count": null,
   "id": "e621463a",
   "metadata": {},
   "outputs": [],
   "source": [
    "\n",
    "import seaborn as sns\n",
    "import matplotlib.pyplot as plt\n",
    "import numpy as np\n",
    "\n",
    "# Correlation heatmap\n",
    "plt.figure(figsize=(12, 6))\n",
    "sns.heatmap(data.corr(), annot=True, cmap=\"coolwarm\", fmt=\".2f\", linewidths=0.5)\n",
    "plt.title(\"Feature Correlation Heatmap\")\n",
    "plt.show()\n",
    "\n",
    "# Feature importance (Random Forest)\n",
    "feature_importances = rf_model.feature_importances_\n",
    "features = X_train_encoded.columns\n",
    "\n",
    "plt.figure(figsize=(12, 6))\n",
    "sns.barplot(x=feature_importances, y=features, color=\"blue\")\n",
    "plt.xlabel(\"Importance Score\")\n",
    "plt.ylabel(\"Features\")\n",
    "plt.title(\"Feature Importance (Random Forest)\")\n",
    "plt.show()\n",
    "\n",
    "# Confusion matrix heatmap for best-performing model (Random Forest in this case)\n",
    "from sklearn.metrics import confusion_matrix\n",
    "\n",
    "best_predictions = rf_model.predict(X_test_scaled)\n",
    "cm = confusion_matrix(y_test, best_predictions)\n",
    "\n",
    "plt.figure(figsize=(6, 5))\n",
    "sns.heatmap(cm, annot=True, fmt=\"d\", cmap=\"Blues\", xticklabels=[\"Class 0\", \"Class 1\"], yticklabels=[\"Class 0\", \"Class 1\"])\n",
    "plt.xlabel(\"Predicted\")\n",
    "plt.ylabel(\"Actual\")\n",
    "plt.title(\"Confusion Matrix Heatmap\")\n",
    "plt.show()\n"
   ]
  },
  {
   "cell_type": "code",
   "execution_count": null,
   "id": "1a00dd2f",
   "metadata": {},
   "outputs": [],
   "source": [
    "\n",
    "import tensorflow as tf\n",
    "from tensorflow import keras\n",
    "from tensorflow.keras import layers\n",
    "\n",
    "# Reshape data for 1D CNN\n",
    "X_train_reshaped = X_train_scaled.reshape((X_train_scaled.shape[0], X_train_scaled.shape[1], 1))\n",
    "X_test_reshaped = X_test_scaled.reshape((X_test_scaled.shape[0], X_test_scaled.shape[1], 1))\n",
    "\n",
    "# CNN model\n",
    "cnn_model = keras.Sequential([\n",
    "    layers.Conv1D(64, kernel_size=3, activation='relu', input_shape=(X_train_scaled.shape[1], 1)),\n",
    "    layers.MaxPooling1D(pool_size=2),\n",
    "    layers.Conv1D(128, kernel_size=3, activation='relu'),\n",
    "    layers.GlobalAveragePooling1D(),\n",
    "    layers.Dense(64, activation='relu'),\n",
    "    layers.Dense(1, activation='sigmoid')\n",
    "])\n",
    "\n",
    "cnn_model.compile(optimizer='adam', loss='binary_crossentropy', metrics=['accuracy'])\n",
    "\n",
    "# Train CNN model\n",
    "cnn_model.fit(X_train_reshaped, y_train, epochs=10, batch_size=32, validation_data=(X_test_reshaped, y_test))\n",
    "\n",
    "# Evaluate CNN model\n",
    "cnn_loss, cnn_accuracy = cnn_model.evaluate(X_test_reshaped, y_test)\n",
    "print(f\"1D CNN Test Accuracy: {cnn_accuracy:.4f}\")\n"
   ]
  },
  {
   "cell_type": "code",
   "execution_count": null,
   "id": "e566453b",
   "metadata": {},
   "outputs": [],
   "source": [
    "\n",
    "# Pairplot to visualize relationships between features\n",
    "import seaborn as sns\n",
    "\n",
    "sns.pairplot(data, diag_kind='kde', hue=target_column)\n",
    "plt.suptitle(\"Feature Pairwise Relationships\", y=1.02)\n",
    "plt.show()\n",
    "\n",
    "# ROC and Precision-Recall Curves for Model Evaluation\n",
    "from sklearn.metrics import roc_curve, auc, precision_recall_curve\n",
    "\n",
    "models = {\"SVM\": svm_model, \"Random Forest\": rf_model, \"Logistic Regression\": lr_model}\n",
    "plt.figure(figsize=(12, 6))\n",
    "\n",
    "for name, model in models.items():\n",
    "    y_probs = model.decision_function(X_test_scaled) if name == \"SVM\" else model.predict_proba(X_test_scaled)[:, 1]\n",
    "    fpr, tpr, _ = roc_curve(y_test, y_probs)\n",
    "    auc_score = auc(fpr, tpr)\n",
    "    plt.plot(fpr, tpr, label=f\"{name} (AUC = {auc_score:.2f})\")\n",
    "\n",
    "plt.plot([0, 1], [0, 1], 'k--')\n",
    "plt.xlabel(\"False Positive Rate\")\n",
    "plt.ylabel(\"True Positive Rate\")\n",
    "plt.title(\"ROC Curve Comparison\")\n",
    "plt.legend()\n",
    "plt.show()\n",
    "\n",
    "# Precision-Recall Curve\n",
    "plt.figure(figsize=(12, 6))\n",
    "for name, model in models.items():\n",
    "    y_probs = model.decision_function(X_test_scaled) if name == \"SVM\" else model.predict_proba(X_test_scaled)[:, 1]\n",
    "    precision, recall, _ = precision_recall_curve(y_test, y_probs)\n",
    "    plt.plot(recall, precision, label=f\"{name}\")\n",
    "\n",
    "plt.xlabel(\"Recall\")\n",
    "plt.ylabel(\"Precision\")\n",
    "plt.title(\"Precision-Recall Curve Comparison\")\n",
    "plt.legend()\n",
    "plt.show()\n"
   ]
  },
  {
   "cell_type": "code",
   "execution_count": null,
   "id": "f81d24cd",
   "metadata": {},
   "outputs": [],
   "source": [
    "\n",
    "# Training loss and accuracy plots for CNN\n",
    "history = cnn_model.history.history\n",
    "\n",
    "plt.figure(figsize=(12, 5))\n",
    "\n",
    "# Loss plot\n",
    "plt.subplot(1, 2, 1)\n",
    "plt.plot(history['loss'], label='Training Loss', color='blue')\n",
    "plt.plot(history['val_loss'], label='Validation Loss', color='red', linestyle='dashed')\n",
    "plt.xlabel(\"Epochs\")\n",
    "plt.ylabel(\"Loss\")\n",
    "plt.title(\"CNN Training & Validation Loss\")\n",
    "plt.legend()\n",
    "\n",
    "# Accuracy plot\n",
    "plt.subplot(1, 2, 2)\n",
    "plt.plot(history['accuracy'], label='Training Accuracy', color='blue')\n",
    "plt.plot(history['val_accuracy'], label='Validation Accuracy', color='red', linestyle='dashed')\n",
    "plt.xlabel(\"Epochs\")\n",
    "plt.ylabel(\"Accuracy\")\n",
    "plt.title(\"CNN Training & Validation Accuracy\")\n",
    "plt.legend()\n",
    "\n",
    "plt.show()\n"
   ]
  }
 ],
 "metadata": {
  "colab": {
   "provenance": []
  },
  "kernelspec": {
   "display_name": "Python 3",
   "name": "python3"
  },
  "language_info": {
   "name": "python"
  }
 },
 "nbformat": 4,
 "nbformat_minor": 0
}
